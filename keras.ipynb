{
 "cells": [
  {
   "cell_type": "markdown",
   "metadata": {},
   "source": [
    "# Simple Deep Learning Example Using tf.keras\n",
    "This notebook denotes a simple code to implement **keras** to learn and to predict number based on MNIST. \n",
    "- Run the cell below to import some libraries and functions to plot them"
   ]
  },
  {
   "cell_type": "code",
   "execution_count": null,
   "metadata": {},
   "outputs": [],
   "source": [
    "import tensorflow as tf\n",
    "from tensorflow import keras\n",
    "from tensorflow.keras import layers\n",
    "\n",
    "import matplotlib.pyplot as plt\n",
    "import numpy as np\n",
    "\n",
    "%load_ext autoreload\n",
    "%autoreload 2 \n",
    "\n",
    "def show_image(p, l):\n",
    "    \"\"\"\n",
    "    Show image given image and label.\n",
    "    \n",
    "    :p: image with type numpy.array (m,n)\n",
    "    :l: label with type numpy.uint8\n",
    "    \"\"\"\n",
    "    try:\n",
    "        plt.figure()\n",
    "        plt.imshow(p, cmap=\"gray\")\n",
    "        plt.colorbar()\n",
    "        plt.xlabel(str(l))\n",
    "        plt.show()   \n",
    "    except: raise Exception(\"Incorrect input. Expected numpy.array with size (m,n) and numpy.uint8\")\n",
    "\n",
    "def show_multiple_images(r, c, p, l):\n",
    "    \"\"\"\n",
    "    Show multiple images and their labels.\n",
    "    \n",
    "    :r: row\n",
    "    :c: column\n",
    "    :p: image with type numpy.array (r*c, m,n)\n",
    "    :l: label with type numpy.uint8 (r*c, 1)\n",
    "    \"\"\"\n",
    "    try:\n",
    "        plt.figure(figsize=(10,10))\n",
    "        for i in range(r*c):\n",
    "            plt.subplot(c,r,i+1)\n",
    "            plt.xticks([])\n",
    "            plt.yticks([])\n",
    "            plt.grid(False)\n",
    "            plt.imshow(p[i], cmap=\"gray\")\n",
    "            plt.xlabel(str(l[i]))\n",
    "        plt.show()\n",
    "    except: raise Exception(\"Incorrect input. Expected numpy.array with size (r*c, m,n) and numpy.uint8 with size (r*c, 1)\")"
   ]
  },
  {
   "cell_type": "markdown",
   "metadata": {},
   "source": [
    "# Initialize\n",
    "- Import MNIST dataset\n",
    "- Build the computational graph for back-propogation\n",
    "- Check the summary to make sure the network is as desire."
   ]
  },
  {
   "cell_type": "code",
   "execution_count": null,
   "metadata": {},
   "outputs": [],
   "source": [
    "mnist = tf.keras.datasets.mnist\n",
    "(train_set, train_label), (test_set, test_label) = mnist.load_data()\n",
    "(m, h, w) = train_set.shape\n",
    "\n",
    "keras.backend.clear_session()          #Too large the net could result in slow-learning or overfit\n",
    "model = keras.Sequential(              #Build the computaton graph\n",
    "        [\n",
    "            keras.layers.Flatten(input_shape=(h,w), name=\"layer1\"),                #Flatten the data; it takes [None, h, w] so remember to change shape if you send only one example in\n",
    "            keras.layers.Dense(units=128, activation=\"relu\", name=\"layer2\"),       #Could add regularization\n",
    "            keras.layers.Dense(units=64, activation=\"relu\", name=\"layer3\"),\n",
    "            keras.layers.Dense(units=10,  activation=\"softmax\", name=\"layer4\"),    #Softmax for the prediction\n",
    "        ]\n",
    ")\n",
    "\n",
    "model.summary() #check the net arch."
   ]
  },
  {
   "cell_type": "markdown",
   "metadata": {},
   "source": [
    "# Run the model"
   ]
  },
  {
   "cell_type": "code",
   "execution_count": null,
   "metadata": {},
   "outputs": [],
   "source": [
    "model.compile(optimizer=\"adam\", \n",
    "              loss=\"sparse_categorical_crossentropy\", #Normal crossentropy takes one-hot encoded label\n",
    "              metrics=['accuracy']\n",
    "             )\n",
    "model.fit(x=train_set/255., y=train_label, epochs=15, batch_size=50) #Remember to /255. so to speed up leaarning"
   ]
  },
  {
   "cell_type": "markdown",
   "metadata": {},
   "source": [
    "# Check the prediction\n",
    "- Run the cell below to see whether model successfully learn to predict number.\n",
    "- The result should return something as below, where graph is input and x-label is the prediction.\n",
    "\n",
    "<img src=\"image/number.PNG\">"
   ]
  },
  {
   "cell_type": "code",
   "execution_count": null,
   "metadata": {},
   "outputs": [],
   "source": [
    "y_hat = np.argmax(model.predict(test_set), axis=1) #change from one-hot to integer\n",
    "show_multiple_images(5, 5, test_set[:25], y_hat[:25]);"
   ]
  },
  {
   "cell_type": "code",
   "execution_count": null,
   "metadata": {},
   "outputs": [],
   "source": []
  }
 ],
 "metadata": {
  "kernelspec": {
   "display_name": "Python 3",
   "language": "python",
   "name": "python3"
  },
  "language_info": {
   "codemirror_mode": {
    "name": "ipython",
    "version": 3
   },
   "file_extension": ".py",
   "mimetype": "text/x-python",
   "name": "python",
   "nbconvert_exporter": "python",
   "pygments_lexer": "ipython3",
   "version": "3.7.9"
  }
 },
 "nbformat": 4,
 "nbformat_minor": 4
}
