{
 "cells": [
  {
   "cell_type": "markdown",
   "metadata": {},
   "source": [
    "# Least Square Fitting - an example for Learning\n",
    "##### In this example, a simple linear regression model $( \\hat{y} = wx + b)$ based on **MSE loss** is implemented.\n",
    "\n",
    "\\begin{align}\n",
    "J(y, \\hat{y}) &=& \\sum_i^m Loss^{MSE}_i= \\sum_i^m \\frac{1}{n} (y_i-\\hat{y}_i)^2 \\\\\n",
    "\\end{align}\n",
    "\n",
    "##### The model's parameters $(w,b)$ is fit using steepest descend optimizer.\n",
    "\n",
    "\\begin{align}\n",
    "w := w - \\alpha * \\frac{\\delta J}{\\delta w}  \\\\\n",
    "b := b - \\alpha * \\frac{\\delta J}{\\delta b}  \\\\\n",
    "\\end{align}\n",
    "\n",
    "##### The gradient is calculated using chain rule and then avergares over the training set (m).\n",
    "\n",
    "\\begin{align}\n",
    "\\frac{\\delta J}{\\delta w} := \\frac{1}{m} \\sum_i^m \\frac{\\delta J}{\\delta \\hat{y}_i} \\frac{\\delta \\hat{y}_i}{\\delta w} = \\frac{1}{m} \\sum_i^m \\frac{\\delta J}{\\delta \\hat{y}_i} \\times x_i^T\\\\\n",
    "\\frac{\\delta J}{\\delta b} := \\frac{1}{m} \\sum_i^m \\frac{\\delta J}{\\delta \\hat{y}_i} \\frac{\\delta \\hat{y}_i}{\\delta b} = \\frac{1}{m} \\sum_i^m \\frac{\\delta J}{\\delta \\hat{y}_i} \\quad \\\\\n",
    "\\end{align}\n",
    "\n",
    "- To run the example, first import all the required functions and libraries."
   ]
  },
  {
   "cell_type": "code",
   "execution_count": 1,
   "metadata": {},
   "outputs": [],
   "source": [
    "import numpy as np\n",
    "import matplotlib.pyplot as plt\n",
    "import ipywidgets as widgets\n",
    "\n",
    "def least_square_fit(x, y, m, b, alpha):\n",
    "    \"\"\"\n",
    "    f(x) = mx + b = y_hat\n",
    "    MSE (J) = (1/n)(y-y_hat)^2\n",
    "    \"\"\"\n",
    "    \n",
    "    y_hat = x*m + b\n",
    "    dJ = -2 * (y-y_hat)\n",
    "    dm = np.mean(np.matmul(dJ,x.T))\n",
    "    db = np.mean(dJ)\n",
    "    \n",
    "    m = m - dm*alpha\n",
    "    b = b - db*alpha\n",
    "    \n",
    "    return m, b\n",
    "\n",
    "def least_square_plot(epoch):\n",
    "    m, b = fit[epoch]\n",
    "    plt.figure(figsize=(12,6))\n",
    "    plt.ylim(-1,30)\n",
    "    plt.scatter(x, y)\n",
    "    plt.plot(x, m*x+b, linestyle='--', color='red', label='Number of epoch= '+str(epoch))\n",
    "    plt.title(\"$y=f(x)=2x+0.5+\\epsilon$\")\n",
    "    plt.annotate(s= \"$\\hat{y} = $\" + \"%.2f\" % m + \" $x$ + \" + \"%.2f\" % b, xy=(8,1), fontsize=12.5)\n",
    "    plt.legend()\n",
    "\n",
    "def run_least_square_fit():\n",
    "    least_square_fit_toy = widgets.interactive(least_square_plot, \n",
    "                                               epoch=widgets.IntSlider(min=0,max=1200,step=20,value=0)\n",
    "                                              )\n",
    "    display(least_square_fit_toy)   "
   ]
  },
  {
   "cell_type": "markdown",
   "metadata": {},
   "source": [
    "- Create training set $y=f(x)=wx+b+\\epsilon$\n",
    "- Run the model"
   ]
  },
  {
   "cell_type": "code",
   "execution_count": 2,
   "metadata": {},
   "outputs": [],
   "source": [
    "x = np.linspace(0, 10, 50)\n",
    "y = 2*x + 4.5*np.random.random(size=50) + 0.5\n",
    "\n",
    "m, b, alpha, epoch = 0, 0, 0.0001, 1200\n",
    "fit = [(m,b)]\n",
    "\n",
    "for e in range(epoch+1): \n",
    "    m, b = least_square_fit(x, y, m, b, alpha)\n",
    "    fit.append((m,b))"
   ]
  },
  {
   "cell_type": "markdown",
   "metadata": {},
   "source": [
    "- To visualize the training process. It should return something as figures shown.\n",
    "\n",
    " <img src=\"./image/least_square_fit.PNG\">"
   ]
  },
  {
   "cell_type": "code",
   "execution_count": 3,
   "metadata": {},
   "outputs": [
    {
     "data": {
      "application/vnd.jupyter.widget-view+json": {
       "model_id": "c7453a455bd047bfbf4b3cf25278887c",
       "version_major": 2,
       "version_minor": 0
      },
      "text/plain": [
       "interactive(children=(IntSlider(value=0, description='epoch', max=1200, step=20), Output()), _dom_classes=('wi…"
      ]
     },
     "metadata": {},
     "output_type": "display_data"
    }
   ],
   "source": [
    "run_least_square_fit()"
   ]
  },
  {
   "cell_type": "code",
   "execution_count": null,
   "metadata": {},
   "outputs": [],
   "source": []
  }
 ],
 "metadata": {
  "kernelspec": {
   "display_name": "Python 3",
   "language": "python",
   "name": "python3"
  },
  "language_info": {
   "codemirror_mode": {
    "name": "ipython",
    "version": 3
   },
   "file_extension": ".py",
   "mimetype": "text/x-python",
   "name": "python",
   "nbconvert_exporter": "python",
   "pygments_lexer": "ipython3",
   "version": "3.8.3"
  }
 },
 "nbformat": 4,
 "nbformat_minor": 4
}
