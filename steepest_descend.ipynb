{
 "cells": [
  {
   "cell_type": "markdown",
   "metadata": {},
   "source": [
    "# Steepest Descend Example (SD)\n",
    "- This notebook contains a toy code for the SD solver\n",
    "- The SD solver is set to minimize $f(x)=x^2$\n",
    "- Remember to first run the cell below to import all the functions and libraries (Make sure you have them all)."
   ]
  },
  {
   "cell_type": "code",
   "execution_count": 1,
   "metadata": {},
   "outputs": [],
   "source": [
    "import numpy as np\n",
    "import matplotlib.pyplot as plt\n",
    "import ipywidgets as widgets\n",
    "\n",
    "def f(x):\n",
    "    return x**2\n",
    "\n",
    "def steepest_descend(init_position, n_steps, alpha):\n",
    "    current_position = init_position\n",
    "    positions = [current_position]\n",
    "    \n",
    "    for step in range(n_steps):\n",
    "        gradient = 2*current_position\n",
    "        next_position = current_position - gradient*alpha\n",
    "        current_position = next_position\n",
    "        positions.append(current_position)\n",
    "    return np.array(positions)\n",
    "\n",
    "def steepest_descend_plot(init_position=-10, n_steps=0, alpha=0.99):\n",
    "    x = np.linspace(-10,10,100)\n",
    "    x_iter = steepest_descend(init_position=init_position, n_steps=n_steps, alpha=alpha)\n",
    "    plt.figure(figsize=(12,6))\n",
    "    plt.title(\"$Steepest $ $Descend$ $Example$\", fontsize=15)\n",
    "    plt.xlabel(\"$X$\", fontsize=15)\n",
    "    plt.ylabel(\"$f~(X)$\", fontsize=15)\n",
    "    plt.plot(x_iter, f(x_iter), marker='o', linestyle='--')\n",
    "    plt.plot(x, f(x))\n",
    "    plt.plot(x_iter[-1], f(x_iter)[-1], marker='o', markersize=10, color=\"red\")\n",
    "    plt.annotate(s= \"$X_{MIN} = ($\" + \"%.2f\" % x_iter[-1] + \" , \" + \"%.2f\" % f(x_iter[-1]) + \")\", xy=(6,1), fontsize=12.5)\n",
    "    \n",
    "def run_steepest_descend_example():\n",
    "    steepest_toy = widgets.interactive(steepest_descend_plot, \n",
    "                                       init_position=(-10,10,2), \n",
    "                                       n_steps=widgets.IntSlider(min=0,max=40,step=2,value=0),\n",
    "                                       alpha=(0.09, 0.99, 0.09)\n",
    "                                      )\n",
    "    display(steepest_toy)   "
   ]
  },
  {
   "cell_type": "markdown",
   "metadata": {},
   "source": [
    "# Usage:\n",
    "  - Run the cell above.\n",
    "  - Simply run the code as below. It should return an interactive widget (as figure shows) for you to play around.\n",
    " ```python\n",
    "    run_steepest_descend_example()\n",
    " ```\n",
    " <img src=\"image/steep.PNG\">"
   ]
  },
  {
   "cell_type": "code",
   "execution_count": 2,
   "metadata": {},
   "outputs": [
    {
     "data": {
      "application/vnd.jupyter.widget-view+json": {
       "model_id": "6debce3e16d248d3b2d6247e0fd9ec1c",
       "version_major": 2,
       "version_minor": 0
      },
      "text/plain": [
       "interactive(children=(IntSlider(value=-10, description='init_position', max=10, min=-10, step=2), IntSlider(va…"
      ]
     },
     "metadata": {},
     "output_type": "display_data"
    }
   ],
   "source": [
    "run_steepest_descend_example()"
   ]
  },
  {
   "cell_type": "code",
   "execution_count": null,
   "metadata": {},
   "outputs": [],
   "source": []
  }
 ],
 "metadata": {
  "kernelspec": {
   "display_name": "Python 3",
   "language": "python",
   "name": "python3"
  },
  "language_info": {
   "codemirror_mode": {
    "name": "ipython",
    "version": 3
   },
   "file_extension": ".py",
   "mimetype": "text/x-python",
   "name": "python",
   "nbconvert_exporter": "python",
   "pygments_lexer": "ipython3",
   "version": "3.7.9"
  }
 },
 "nbformat": 4,
 "nbformat_minor": 4
}
