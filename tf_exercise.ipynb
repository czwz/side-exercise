{
 "cells": [
  {
   "cell_type": "markdown",
   "metadata": {},
   "source": [
    "# Simple Deep Learning Example Using tf v.1\n",
    "This notebook denotes a simple code to implement **TensorFlow v.1** to learn and to predict number based on MNIST. \n",
    "1. Run the cell below to import some libraries and functions to plot them\n",
    "    - Becasue tensorflow has migrated most of feature to tensorflow v2.0 (which is very close to keras), **tensorflow.compat.v1** is imported to use old tensorflow."
   ]
  },
  {
   "cell_type": "code",
   "execution_count": 1,
   "metadata": {},
   "outputs": [
    {
     "name": "stdout",
     "output_type": "stream",
     "text": [
      "WARNING:tensorflow:From C:\\ProgramData\\Anaconda3\\envs\\tensorflow-session\\lib\\site-packages\\tensorflow_core\\python\\compat\\v2_compat.py:88: disable_resource_variables (from tensorflow.python.ops.variable_scope) is deprecated and will be removed in a future version.\n",
      "Instructions for updating:\n",
      "non-resource variables are not supported in the long term\n"
     ]
    }
   ],
   "source": [
    "#used tf.compat.v1 to solve that placeholder error in tf v2.0\n",
    "import tensorflow.compat.v1 as tf\n",
    "tf.disable_v2_behavior()\n",
    "\n",
    "import numpy as np;\n",
    "import matplotlib.pyplot as plt;"
   ]
  },
  {
   "cell_type": "markdown",
   "metadata": {},
   "source": [
    "2. Import MNIST database & change label style to one-hot-encoded"
   ]
  },
  {
   "cell_type": "code",
   "execution_count": 2,
   "metadata": {},
   "outputs": [],
   "source": [
    "mnist = tf.keras.datasets.mnist\n",
    "(train_set, train_label), (test_set, test_label) = mnist.load_data()\n",
    "train_set, test_set = train_set/255, test_set/255\n",
    "(m, h, w) = train_set.shape\n",
    "\n",
    "y_train = np.zeros((train_label.shape[0], train_label.max()+1), dtype=np.float32)\n",
    "y_train[np.arange(train_label.shape[0]), train_label] = 1\n",
    "y_test = np.zeros((test_label.shape[0], test_label.max()+1), dtype=np.float32)\n",
    "y_test[np.arange(test_label.shape[0]), test_label] = 1"
   ]
  },
  {
   "cell_type": "markdown",
   "metadata": {},
   "source": [
    "3. Create the function to call **computational graph** for forward propagation"
   ]
  },
  {
   "cell_type": "code",
   "execution_count": 3,
   "metadata": {},
   "outputs": [],
   "source": [
    "def conv_forward_propagation(X, parameters):\n",
    "    W1 = parameters['W1']\n",
    "    W2 = parameters['W2']\n",
    "\n",
    "    Z1 = tf.nn.conv2d(input=X, filter=W1, strides=[1,1,1,1], padding = 'SAME')\n",
    "    A1 = tf.nn.relu(Z1)\n",
    "    P1 = tf.nn.max_pool(value=A1, ksize=[1,2,2,1], strides=[1,2,2,1], padding='SAME')\n",
    "\n",
    "    Z2 = tf.nn.conv2d(input=P1, filter=W2, strides=[1,1,1,1], padding = 'SAME')\n",
    "    A2 = tf.nn.relu(Z2)\n",
    "    P2 = tf.nn.max_pool(value=A2, ksize=[1,2,2,1], strides=[1,2,2,1], padding='SAME')\n",
    "\n",
    "    F = tf.layers.flatten(inputs=P2, data_format='channels_last')\n",
    "    Z3 = tf.layers.dense(inputs=F, units=10)\n",
    "\n",
    "    return Z3"
   ]
  },
  {
   "cell_type": "markdown",
   "metadata": {},
   "source": [
    "4. Run the model: **details are as comments**"
   ]
  },
  {
   "cell_type": "code",
   "execution_count": 4,
   "metadata": {},
   "outputs": [
    {
     "name": "stdout",
     "output_type": "stream",
     "text": [
      "WARNING:tensorflow:From <ipython-input-3-6a9222512223>:13: flatten (from tensorflow.python.layers.core) is deprecated and will be removed in a future version.\n",
      "Instructions for updating:\n",
      "Use keras.layers.Flatten instead.\n",
      "WARNING:tensorflow:From C:\\ProgramData\\Anaconda3\\envs\\tensorflow-session\\lib\\site-packages\\tensorflow_core\\python\\layers\\core.py:332: Layer.apply (from tensorflow.python.keras.engine.base_layer) is deprecated and will be removed in a future version.\n",
      "Instructions for updating:\n",
      "Please use `layer.__call__` method instead.\n",
      "WARNING:tensorflow:From <ipython-input-3-6a9222512223>:14: dense (from tensorflow.python.layers.core) is deprecated and will be removed in a future version.\n",
      "Instructions for updating:\n",
      "Use keras.layers.Dense instead.\n",
      "WARNING:tensorflow:From <ipython-input-4-2f643e5dc7c0>:22: softmax_cross_entropy_with_logits (from tensorflow.python.ops.nn_ops) is deprecated and will be removed in a future version.\n",
      "Instructions for updating:\n",
      "\n",
      "Future major versions of TensorFlow will allow gradients to flow\n",
      "into the labels input on backprop by default.\n",
      "\n",
      "See `tf.nn.softmax_cross_entropy_with_logits_v2`.\n",
      "\n",
      "cost= 2.299962, accuracy= 0.216900 \n",
      "cost= 2.273604, accuracy= 0.339800 \n",
      "cost= 2.244426, accuracy= 0.435300 \n",
      "cost= 2.210453, accuracy= 0.499300 \n",
      "cost= 2.170857, accuracy= 0.549200 \n",
      "cost= 2.125133, accuracy= 0.588500 \n",
      "cost= 2.072979, accuracy= 0.614300 \n",
      "cost= 2.014222, accuracy= 0.633400 \n",
      "cost= 1.948877, accuracy= 0.644000 \n",
      "cost= 1.877054, accuracy= 0.657400 \n",
      "cost= 1.798960, accuracy= 0.669200 \n",
      "cost= 1.714857, accuracy= 0.680300 \n",
      "cost= 1.625177, accuracy= 0.695700 \n",
      "cost= 1.530721, accuracy= 0.710700 \n",
      "cost= 1.433243, accuracy= 0.726300 \n",
      "cost= 1.334433, accuracy= 0.746700 \n",
      "cost= 1.235988, accuracy= 0.762800 \n",
      "cost= 1.140117, accuracy= 0.778300 \n",
      "cost= 1.048691, accuracy= 0.790200 \n",
      "cost= 0.962884, accuracy= 0.800600 \n"
     ]
    }
   ],
   "source": [
    "# Reset the computational graph\n",
    "tf.reset_default_graph()\n",
    "\n",
    "# Reshape the train/test set\n",
    "train_set_tmp = np.expand_dims(train_set, axis=-1)\n",
    "test_set_tmp = np.expand_dims(test_set, axis=-1)\n",
    "train_label_tmp = y_train\n",
    "\n",
    "# Set leaning parameters\n",
    "epoch=20\n",
    "lr = 0.01\n",
    "\n",
    "# Define model's variables\n",
    "X = tf.placeholder(dtype=\"float\", shape=(None, h, w, 1))\n",
    "Y = tf.placeholder(dtype=\"float\", shape=(None, 10))\n",
    "W1 = tf.get_variable(shape=(2,2,1,3), dtype=\"float\", name=\"W1\", initializer=tf.initializers.glorot_uniform())\n",
    "W2 = tf.get_variable(shape=(2,2,3,8), dtype=\"float\", name=\"W2\", initializer=tf.initializers.glorot_uniform())\n",
    "parameters = {\"W1\": W1, \"W2\": W2}\n",
    "\n",
    "# Define the computational objects\n",
    "Z3 = conv_forward_propagation(X, parameters)\n",
    "cost = tf.reduce_mean(tf.nn.softmax_cross_entropy_with_logits(logits=Z3, labels=Y))\n",
    "optimizer = tf.train.AdamOptimizer(learning_rate=lr).minimize(loss=cost)\n",
    "init = tf.global_variables_initializer()\n",
    "\n",
    "# Start learning session\n",
    "with tf.Session() as sess:\n",
    "    sess.run(init)\n",
    "    for e in range(epoch):\n",
    "        _ , temp_cost = sess.run(fetches=[optimizer, cost], feed_dict={X: train_set_tmp, Y: train_label_tmp})\n",
    "        pred_y = sess.run(Z3, feed_dict={X: test_set_tmp})\n",
    "        accuracy = np.sum(np.argmax(pred_y, axis=1) == test_label)/len(pred_y)\n",
    "        print(\"cost= {:1.6f}, accuracy= {:1.6f} \".format(temp_cost, accuracy))"
   ]
  },
  {
   "cell_type": "code",
   "execution_count": null,
   "metadata": {},
   "outputs": [],
   "source": []
  }
 ],
 "metadata": {
  "kernelspec": {
   "display_name": "Python 3",
   "language": "python",
   "name": "python3"
  },
  "language_info": {
   "codemirror_mode": {
    "name": "ipython",
    "version": 3
   },
   "file_extension": ".py",
   "mimetype": "text/x-python",
   "name": "python",
   "nbconvert_exporter": "python",
   "pygments_lexer": "ipython3",
   "version": "3.7.9"
  }
 },
 "nbformat": 4,
 "nbformat_minor": 4
}
